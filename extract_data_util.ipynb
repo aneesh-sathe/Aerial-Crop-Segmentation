{
 "cells": [
  {
   "cell_type": "code",
   "execution_count": 1,
   "id": "0a860aaa",
   "metadata": {},
   "outputs": [],
   "source": [
    "# Utility script to extract images relevant for UNet [Non Black Pixels > 30%] from the Raw Data Directory, \n",
    "# into Respective Image & Mask Sub-directories"
   ]
  },
  {
   "cell_type": "code",
   "execution_count": null,
   "id": "1cad395b",
   "metadata": {},
   "outputs": [],
   "source": [
    "!pip install opencv-python"
   ]
  },
  {
   "cell_type": "code",
   "execution_count": 19,
   "id": "6844bf7d",
   "metadata": {},
   "outputs": [],
   "source": [
    "import cv2\n",
    "import os \n",
    "import shutil\n",
    "import numpy as np\n",
    "import matplotlib.pyplot as plt"
   ]
  },
  {
   "cell_type": "code",
   "execution_count": 31,
   "id": "329f93c2",
   "metadata": {},
   "outputs": [],
   "source": [
    "path ='/Users/aneeshsathe/Desktop/u-net/data'\n",
    "#os.listdir(path)\n",
    "images = sorted([image for image in os.listdir(path) if 'frame' in image.split('_')[-1]])\n",
    "threshold = 30\n",
    "\n",
    "parent_dir = os.path.dirname(path)\n",
    "img_dir = os.path.join(parent_dir, 'image')\n",
    "mask_dir = os.path.join(parent_dir, 'mask')\n",
    "\n",
    "os.makedirs(img_dir, exist_ok = True)\n",
    "os.makedirs(mask_dir, exist_ok = True)\n",
    "\n",
    "for image in images:\n",
    "    img = cv2.imread(os.path.join(path, image))\n",
    "    non_black_pixels = np.sum(np.all(img != [0, 0, 0], axis=-1))\n",
    "    total_pixels = img.size // img.shape[-1]  \n",
    "    non_black_percent = (non_black_pixels / total_pixels) * 100\n",
    "    \n",
    "    if non_black_percent > threshold:\n",
    "        mask = os.path.splitext(image)[0] + '_GroundTruth_color.png'\n",
    "        shutil.copy(os.path.join(path, image), os.path.join(img_dir, image))\n",
    "        shutil.copy(os.path.join(path, mask), os.path.join(mask_dir, mask))\n",
    "    "
   ]
  },
  {
   "cell_type": "code",
   "execution_count": 32,
   "id": "1fd130b4",
   "metadata": {},
   "outputs": [],
   "source": [
    "mask_count = os.listdir(mask_dir)\n",
    "img_count = os.listdir(img_dir)"
   ]
  },
  {
   "cell_type": "code",
   "execution_count": 45,
   "id": "3e9f61cc",
   "metadata": {},
   "outputs": [
    {
     "name": "stdout",
     "output_type": "stream",
     "text": [
      "No. of Images: 215\n",
      "No. of Masks: 215\n"
     ]
    }
   ],
   "source": [
    "print(f\"No. of Images: {len(mask_count)}\\nNo. of Masks: {len(img_count)}\")"
   ]
  },
  {
   "cell_type": "code",
   "execution_count": 46,
   "id": "b99ac6f9",
   "metadata": {},
   "outputs": [
    {
     "name": "stdout",
     "output_type": "stream",
     "text": [
      "Image Shape: (360, 480, 3)\n"
     ]
    }
   ],
   "source": [
    "print(f\"Image Shape: {img.shape}\")"
   ]
  },
  {
   "cell_type": "code",
   "execution_count": 48,
   "id": "75a59e12",
   "metadata": {},
   "outputs": [
    {
     "name": "stdout",
     "output_type": "stream",
     "text": [
      "Pixels: 518400\n"
     ]
    }
   ],
   "source": [
    "print(f\"Pixels: {img.size}\") # num of pixels "
   ]
  }
 ],
 "metadata": {
  "kernelspec": {
   "display_name": "Python 3 (ipykernel)",
   "language": "python",
   "name": "python3"
  },
  "language_info": {
   "codemirror_mode": {
    "name": "ipython",
    "version": 3
   },
   "file_extension": ".py",
   "mimetype": "text/x-python",
   "name": "python",
   "nbconvert_exporter": "python",
   "pygments_lexer": "ipython3",
   "version": "3.8.17"
  }
 },
 "nbformat": 4,
 "nbformat_minor": 5
}
